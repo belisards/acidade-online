{
 "metadata": {
  "language_info": {
   "codemirror_mode": {
    "name": "ipython",
    "version": 3
   },
   "file_extension": ".py",
   "mimetype": "text/x-python",
   "name": "python",
   "nbconvert_exporter": "python",
   "pygments_lexer": "ipython3",
   "version": "3.9.5"
  },
  "orig_nbformat": 4,
  "kernelspec": {
   "name": "python3",
   "display_name": "Python 3.9.5 64-bit"
  },
  "interpreter": {
   "hash": "31f2aee4e71d21fbe5cf8b01ff0e069b9275f58929596ceb00d14d90e3e16cd6"
  }
 },
 "nbformat": 4,
 "nbformat_minor": 2,
 "cells": [
  {
   "cell_type": "code",
   "execution_count": 1,
   "metadata": {},
   "outputs": [],
   "source": [
    "import requests\n",
    "from bs4 import BeautifulSoup\n",
    "import pandas as pd"
   ]
  },
  {
   "cell_type": "code",
   "execution_count": 2,
   "metadata": {},
   "outputs": [],
   "source": [
    "link = 'https://www.jornaldacidadeonline.com.br/'"
   ]
  },
  {
   "cell_type": "code",
   "execution_count": 3,
   "metadata": {
    "tags": []
   },
   "outputs": [],
   "source": [
    "response = requests.get(link)\n",
    "doc = BeautifulSoup(response.text, 'html.parser')"
   ]
  },
  {
   "cell_type": "code",
   "execution_count": 4,
   "metadata": {},
   "outputs": [],
   "source": [
    "rows = []\n",
    "\n",
    "for item in doc.find_all(class_='widget__data'):\n",
    "    row = {}\n",
    "    row['tag'] = item.find(class_ = 'widget__tag').text\n",
    "    row['date'] = item.find(class_ = 'widget__date').text\n",
    "    row['title'] = item.find(class_ = 'widget__title').text\n",
    "    row['link'] = item.find(class_ = 'widget__title')['href']\n",
    "    rows.append(row)"
   ]
  },
  {
   "cell_type": "code",
   "execution_count": 5,
   "metadata": {},
   "outputs": [
    {
     "output_type": "execute_result",
     "data": {
      "text/plain": [
       "               tag        date  \\\n",
       "0       Corrupção   13/07/2021   \n",
       "1            Lula   13/07/2021   \n",
       "2  Forças Armadas   13/07/2021   \n",
       "3    CPI da Covid   13/07/2021   \n",
       "4        Téo José   13/07/2021   \n",
       "\n",
       "                                               title  \\\n",
       "0  Exclusivo: Os casos de corrupção que estão sen...   \n",
       "1  Jornalista vence na Justiça primeira batalha c...   \n",
       "2  Calheiros diz que ministério da Defesa foi apa...   \n",
       "3  Senador Girão desmonta narrativa de Renan e co...   \n",
       "4  Ao vivo, Galvão tenta alfinetar SBT e é ironiz...   \n",
       "\n",
       "                                                link  \n",
       "0  https://www.jornaldacidadeonline.com.br/notici...  \n",
       "1  https://www.jornaldacidadeonline.com.br/notici...  \n",
       "2  https://www.jornaldacidadeonline.com.br/notici...  \n",
       "3  https://www.jornaldacidadeonline.com.br/notici...  \n",
       "4  https://www.jornaldacidadeonline.com.br/notici...  "
      ],
      "text/html": "<div>\n<style scoped>\n    .dataframe tbody tr th:only-of-type {\n        vertical-align: middle;\n    }\n\n    .dataframe tbody tr th {\n        vertical-align: top;\n    }\n\n    .dataframe thead th {\n        text-align: right;\n    }\n</style>\n<table border=\"1\" class=\"dataframe\">\n  <thead>\n    <tr style=\"text-align: right;\">\n      <th></th>\n      <th>tag</th>\n      <th>date</th>\n      <th>title</th>\n      <th>link</th>\n    </tr>\n  </thead>\n  <tbody>\n    <tr>\n      <th>0</th>\n      <td>Corrupção</td>\n      <td>13/07/2021</td>\n      <td>Exclusivo: Os casos de corrupção que estão sen...</td>\n      <td>https://www.jornaldacidadeonline.com.br/notici...</td>\n    </tr>\n    <tr>\n      <th>1</th>\n      <td>Lula</td>\n      <td>13/07/2021</td>\n      <td>Jornalista vence na Justiça primeira batalha c...</td>\n      <td>https://www.jornaldacidadeonline.com.br/notici...</td>\n    </tr>\n    <tr>\n      <th>2</th>\n      <td>Forças Armadas</td>\n      <td>13/07/2021</td>\n      <td>Calheiros diz que ministério da Defesa foi apa...</td>\n      <td>https://www.jornaldacidadeonline.com.br/notici...</td>\n    </tr>\n    <tr>\n      <th>3</th>\n      <td>CPI da Covid</td>\n      <td>13/07/2021</td>\n      <td>Senador Girão desmonta narrativa de Renan e co...</td>\n      <td>https://www.jornaldacidadeonline.com.br/notici...</td>\n    </tr>\n    <tr>\n      <th>4</th>\n      <td>Téo José</td>\n      <td>13/07/2021</td>\n      <td>Ao vivo, Galvão tenta alfinetar SBT e é ironiz...</td>\n      <td>https://www.jornaldacidadeonline.com.br/notici...</td>\n    </tr>\n  </tbody>\n</table>\n</div>"
     },
     "metadata": {},
     "execution_count": 5
    }
   ],
   "source": [
    "df = pd.DataFrame(rows)\n",
    "df.head()"
   ]
  },
  {
   "cell_type": "code",
   "execution_count": 6,
   "metadata": {},
   "outputs": [],
   "source": [
    "def scrape_news(url):\n",
    "    response = requests.get(url)\n",
    "    doc = BeautifulSoup(response.text, 'html.parser')\n",
    "    article = []\n",
    "    # print('Content downloaded',url)\n",
    "    all_paragraphs = doc.find_all(class_='post__description')\n",
    "    if len(all_paragraphs) > 0:\n",
    "        for paragraph in all_paragraphs[0].findAll('p'):\n",
    "            try:\n",
    "                article.append(paragraph.text)\n",
    "            except:\n",
    "                print(\"No text found\") \n",
    "        news = '\\n'.join(article)\n",
    "        return news"
   ]
  },
  {
   "cell_type": "code",
   "execution_count": 7,
   "metadata": {},
   "outputs": [],
   "source": [
    "df['article'] = df.link.apply(scrape_news)"
   ]
  },
  {
   "cell_type": "code",
   "execution_count": 9,
   "metadata": {},
   "outputs": [
    {
     "output_type": "execute_result",
     "data": {
      "text/plain": [
       "                         tag        date  \\\n",
       "0                 Corrupção   13/07/2021   \n",
       "1                      Lula   13/07/2021   \n",
       "2            Forças Armadas   13/07/2021   \n",
       "3              CPI da Covid   13/07/2021   \n",
       "4                  Téo José   13/07/2021   \n",
       "5              Guerra Civil   13/07/2021   \n",
       "6                      Xuxa   13/07/2021   \n",
       "7             Porte de Arma   13/07/2021   \n",
       "8                       MST   12/07/2021   \n",
       "9   Voto Impresso Auditável   12/07/2021   \n",
       "10                Venezuela   12/07/2021   \n",
       "11           Senado Federal   12/07/2021   \n",
       "12              Lei Rouanet   13/07/2021   \n",
       "13           Silas Malafaia   13/07/2021   \n",
       "14                     Cuba   13/07/2021   \n",
       "15           Marcos Rogério   13/07/2021   \n",
       "16           Jair Bolsonaro   13/07/2021   \n",
       "17                Omar Aziz   13/07/2021   \n",
       "18        Walter Casagrande   13/07/2021   \n",
       "19             Marcelo Nova   13/07/2021   \n",
       "20           Jair Bolsonaro   13/07/2021   \n",
       "21             CPI da Covid   13/07/2021   \n",
       "22                Venezuela   13/07/2021   \n",
       "23                    Bahia   13/07/2021   \n",
       "24      Alexandre de Moraes   13/07/2021   \n",
       "25             Amanda Klein   12/07/2021   \n",
       "26                     Cuba   12/07/2021   \n",
       "27                     Lula   12/07/2021   \n",
       "28                Apreensão   12/07/2021   \n",
       "29                Datafolha   12/07/2021   \n",
       "30            The Economist   10/06/2021   \n",
       "31             CPI da Covid   11/07/2021   \n",
       "\n",
       "                                                title  \\\n",
       "0   Exclusivo: Os casos de corrupção que estão sen...   \n",
       "1   Jornalista vence na Justiça primeira batalha c...   \n",
       "2   Calheiros diz que ministério da Defesa foi apa...   \n",
       "3   Senador Girão desmonta narrativa de Renan e co...   \n",
       "4   Ao vivo, Galvão tenta alfinetar SBT e é ironiz...   \n",
       "5                       Voto impresso e auditável já!   \n",
       "6   Com aparente desequilíbrio emocional, Xuxa se ...   \n",
       "7   “A gente precisa ter o poder de defender nossa...   \n",
       "8   Absurdo - MST convoca militantes para defender...   \n",
       "9           Quem tem medo do voto impresso auditável?   \n",
       "10  URGENTE: Homens encapuzados e armados da ditad...   \n",
       "11  Marcos Rogério faz reflexão sobre texto bíblic...   \n",
       "12  Jornal Nacional defende \"Festival Antifascista...   \n",
       "13  Malafaia diz que governo Bolsonaro é o mais at...   \n",
       "14  Cuba Libre, a luta entre o bem e o mal: Acorda...   \n",
       "15  Após ato falho, Omar Aziz tenta coagir depoent...   \n",
       "16  Bolsonaro interrompe entrevista, reza o \"Pai N...   \n",
       "17  Gravíssimo: Omar Aziz volta a dar chilique em ...   \n",
       "18  Casagrande sofre derrota na Justiça e Globo te...   \n",
       "19  No Dia do Rock, roqueiro solta o verbo ao vivo...   \n",
       "20  Confirmado! Bolsonaro cumpre promessa e nomeia...   \n",
       "21  Sem as mordaças da censura, Eustáquio escancar...   \n",
       "22  Imagens impressionantes: Agentes de Maduro ten...   \n",
       "23  Advogado aciona governador petista no STF cont...   \n",
       "24  O pedido de prisão de Alexandre de Moraes: Uma...   \n",
       "25  Amanda Klein inventa a “corrupção de conto de ...   \n",
       "26  Imagens do levante contra o regime comunista e...   \n",
       "27  Depois da dura resposta das Forças Armadas, Lu...   \n",
       "28  Polícia faz a maior apreensão de drogas da his...   \n",
       "29  Datafolha: Incompetência ou mau-caratismo? (ve...   \n",
       "30                   The Economist lied about Brazil!   \n",
       "31  As decisões de Fachin tem fortalecido as facçõ...   \n",
       "\n",
       "                                                 link  \\\n",
       "0   https://www.jornaldacidadeonline.com.br/notici...   \n",
       "1   https://www.jornaldacidadeonline.com.br/notici...   \n",
       "2   https://www.jornaldacidadeonline.com.br/notici...   \n",
       "3   https://www.jornaldacidadeonline.com.br/notici...   \n",
       "4   https://www.jornaldacidadeonline.com.br/notici...   \n",
       "5   https://www.jornaldacidadeonline.com.br/notici...   \n",
       "6   https://www.jornaldacidadeonline.com.br/notici...   \n",
       "7   https://www.jornaldacidadeonline.com.br/notici...   \n",
       "8   https://www.jornaldacidadeonline.com.br/notici...   \n",
       "9   https://www.jornaldacidadeonline.com.br/notici...   \n",
       "10  https://www.jornaldacidadeonline.com.br/notici...   \n",
       "11  https://www.jornaldacidadeonline.com.br/notici...   \n",
       "12  https://www.jornaldacidadeonline.com.br/notici...   \n",
       "13  https://www.jornaldacidadeonline.com.br/notici...   \n",
       "14  https://www.jornaldacidadeonline.com.br/notici...   \n",
       "15  https://www.jornaldacidadeonline.com.br/notici...   \n",
       "16  https://www.jornaldacidadeonline.com.br/notici...   \n",
       "17  https://www.jornaldacidadeonline.com.br/notici...   \n",
       "18  https://www.jornaldacidadeonline.com.br/notici...   \n",
       "19  https://www.jornaldacidadeonline.com.br/notici...   \n",
       "20  https://www.jornaldacidadeonline.com.br/notici...   \n",
       "21  https://www.jornaldacidadeonline.com.br/notici...   \n",
       "22  https://www.jornaldacidadeonline.com.br/notici...   \n",
       "23  https://www.jornaldacidadeonline.com.br/notici...   \n",
       "24  https://www.jornaldacidadeonline.com.br/notici...   \n",
       "25  https://www.jornaldacidadeonline.com.br/notici...   \n",
       "26  https://www.jornaldacidadeonline.com.br/notici...   \n",
       "27  https://www.jornaldacidadeonline.com.br/notici...   \n",
       "28  https://www.jornaldacidadeonline.com.br/notici...   \n",
       "29  https://www.jornaldacidadeonline.com.br/notici...   \n",
       "30  https://www.jornaldacidadeonline.com.br/notici...   \n",
       "31  https://www.jornaldacidadeonline.com.br/notici...   \n",
       "\n",
       "                                              article  \n",
       "0   Vídeo revelador produzido pela equipe do canal...  \n",
       "1   A jornalista Carina Belomé, que está sendo pro...  \n",
       "2   Em mais uma fala com claro desrespeito às inst...  \n",
       "3   Durante sessão da Comissão Parlamentar de Inqu...  \n",
       "4   No último domingo (11), após a Rede Globo perd...  \n",
       "5   O clima político no país caminha para um impas...  \n",
       "6   Xuxa Meneghel atacou o governo, em post no Ins...  \n",
       "7   Camila Abdo, colaboradora do canal A Verdade, ...  \n",
       "8   O Movimento Sem Terra, um malfadado grupo que ...  \n",
       "9   Por que o velho mecanismo insiste em manter a ...  \n",
       "10  Segundo informações de Fabiana Rosales, esposa...  \n",
       "11                                               None  \n",
       "12  Em um parecer emitido pela Fundação Nacional d...  \n",
       "13  O pastor Silas Malafaia gravou mais um de seus...  \n",
       "14  Estamos vivendo a história, bem diante de noss...  \n",
       "15  A sessão da CPI da pandemia desta terça-feira ...  \n",
       "16  Na última segunda-feira (12), o presidente Jai...  \n",
       "17  O presidente da CPI “do circo” da pandemia, se...  \n",
       "18  Ana Paula Henkel, comentarista da Jovem Pan e ...  \n",
       "19  Convidado para falar no Dia do Rock, Marcelo N...  \n",
       "20  Finalmente está confirmado…\\nO Pastor evangéli...  \n",
       "21  Em live realizada recentemente, o jornalista O...  \n",
       "22  Ontem, segunda-feira (12), a ditadura venezuel...  \n",
       "23  O advogado e professor de Direito, com Mestrad...  \n",
       "24  O pedido de prisão de Alexandre o \"Glande\", es...  \n",
       "25  A jornalista da Jovem Pan, Amanda Klein, parec...  \n",
       "26  As fotos e vídeos do levante do povo cubano co...  \n",
       "27  O ex-presidente e ex-presidiário Luiz Inácio L...  \n",
       "28  No último final de semana, a Polícia Militar R...  \n",
       "29  Se tem algo que devemos admirar nos institutos...  \n",
       "30  The Economist is a traditional British publica...  \n",
       "31  Para o deputado estadual Charlles Batista (PSL...  "
      ],
      "text/html": "<div>\n<style scoped>\n    .dataframe tbody tr th:only-of-type {\n        vertical-align: middle;\n    }\n\n    .dataframe tbody tr th {\n        vertical-align: top;\n    }\n\n    .dataframe thead th {\n        text-align: right;\n    }\n</style>\n<table border=\"1\" class=\"dataframe\">\n  <thead>\n    <tr style=\"text-align: right;\">\n      <th></th>\n      <th>tag</th>\n      <th>date</th>\n      <th>title</th>\n      <th>link</th>\n      <th>article</th>\n    </tr>\n  </thead>\n  <tbody>\n    <tr>\n      <th>0</th>\n      <td>Corrupção</td>\n      <td>13/07/2021</td>\n      <td>Exclusivo: Os casos de corrupção que estão sen...</td>\n      <td>https://www.jornaldacidadeonline.com.br/notici...</td>\n      <td>Vídeo revelador produzido pela equipe do canal...</td>\n    </tr>\n    <tr>\n      <th>1</th>\n      <td>Lula</td>\n      <td>13/07/2021</td>\n      <td>Jornalista vence na Justiça primeira batalha c...</td>\n      <td>https://www.jornaldacidadeonline.com.br/notici...</td>\n      <td>A jornalista Carina Belomé, que está sendo pro...</td>\n    </tr>\n    <tr>\n      <th>2</th>\n      <td>Forças Armadas</td>\n      <td>13/07/2021</td>\n      <td>Calheiros diz que ministério da Defesa foi apa...</td>\n      <td>https://www.jornaldacidadeonline.com.br/notici...</td>\n      <td>Em mais uma fala com claro desrespeito às inst...</td>\n    </tr>\n    <tr>\n      <th>3</th>\n      <td>CPI da Covid</td>\n      <td>13/07/2021</td>\n      <td>Senador Girão desmonta narrativa de Renan e co...</td>\n      <td>https://www.jornaldacidadeonline.com.br/notici...</td>\n      <td>Durante sessão da Comissão Parlamentar de Inqu...</td>\n    </tr>\n    <tr>\n      <th>4</th>\n      <td>Téo José</td>\n      <td>13/07/2021</td>\n      <td>Ao vivo, Galvão tenta alfinetar SBT e é ironiz...</td>\n      <td>https://www.jornaldacidadeonline.com.br/notici...</td>\n      <td>No último domingo (11), após a Rede Globo perd...</td>\n    </tr>\n    <tr>\n      <th>5</th>\n      <td>Guerra Civil</td>\n      <td>13/07/2021</td>\n      <td>Voto impresso e auditável já!</td>\n      <td>https://www.jornaldacidadeonline.com.br/notici...</td>\n      <td>O clima político no país caminha para um impas...</td>\n    </tr>\n    <tr>\n      <th>6</th>\n      <td>Xuxa</td>\n      <td>13/07/2021</td>\n      <td>Com aparente desequilíbrio emocional, Xuxa se ...</td>\n      <td>https://www.jornaldacidadeonline.com.br/notici...</td>\n      <td>Xuxa Meneghel atacou o governo, em post no Ins...</td>\n    </tr>\n    <tr>\n      <th>7</th>\n      <td>Porte de Arma</td>\n      <td>13/07/2021</td>\n      <td>“A gente precisa ter o poder de defender nossa...</td>\n      <td>https://www.jornaldacidadeonline.com.br/notici...</td>\n      <td>Camila Abdo, colaboradora do canal A Verdade, ...</td>\n    </tr>\n    <tr>\n      <th>8</th>\n      <td>MST</td>\n      <td>12/07/2021</td>\n      <td>Absurdo - MST convoca militantes para defender...</td>\n      <td>https://www.jornaldacidadeonline.com.br/notici...</td>\n      <td>O Movimento Sem Terra, um malfadado grupo que ...</td>\n    </tr>\n    <tr>\n      <th>9</th>\n      <td>Voto Impresso Auditável</td>\n      <td>12/07/2021</td>\n      <td>Quem tem medo do voto impresso auditável?</td>\n      <td>https://www.jornaldacidadeonline.com.br/notici...</td>\n      <td>Por que o velho mecanismo insiste em manter a ...</td>\n    </tr>\n    <tr>\n      <th>10</th>\n      <td>Venezuela</td>\n      <td>12/07/2021</td>\n      <td>URGENTE: Homens encapuzados e armados da ditad...</td>\n      <td>https://www.jornaldacidadeonline.com.br/notici...</td>\n      <td>Segundo informações de Fabiana Rosales, esposa...</td>\n    </tr>\n    <tr>\n      <th>11</th>\n      <td>Senado Federal</td>\n      <td>12/07/2021</td>\n      <td>Marcos Rogério faz reflexão sobre texto bíblic...</td>\n      <td>https://www.jornaldacidadeonline.com.br/notici...</td>\n      <td>None</td>\n    </tr>\n    <tr>\n      <th>12</th>\n      <td>Lei Rouanet</td>\n      <td>13/07/2021</td>\n      <td>Jornal Nacional defende \"Festival Antifascista...</td>\n      <td>https://www.jornaldacidadeonline.com.br/notici...</td>\n      <td>Em um parecer emitido pela Fundação Nacional d...</td>\n    </tr>\n    <tr>\n      <th>13</th>\n      <td>Silas Malafaia</td>\n      <td>13/07/2021</td>\n      <td>Malafaia diz que governo Bolsonaro é o mais at...</td>\n      <td>https://www.jornaldacidadeonline.com.br/notici...</td>\n      <td>O pastor Silas Malafaia gravou mais um de seus...</td>\n    </tr>\n    <tr>\n      <th>14</th>\n      <td>Cuba</td>\n      <td>13/07/2021</td>\n      <td>Cuba Libre, a luta entre o bem e o mal: Acorda...</td>\n      <td>https://www.jornaldacidadeonline.com.br/notici...</td>\n      <td>Estamos vivendo a história, bem diante de noss...</td>\n    </tr>\n    <tr>\n      <th>15</th>\n      <td>Marcos Rogério</td>\n      <td>13/07/2021</td>\n      <td>Após ato falho, Omar Aziz tenta coagir depoent...</td>\n      <td>https://www.jornaldacidadeonline.com.br/notici...</td>\n      <td>A sessão da CPI da pandemia desta terça-feira ...</td>\n    </tr>\n    <tr>\n      <th>16</th>\n      <td>Jair Bolsonaro</td>\n      <td>13/07/2021</td>\n      <td>Bolsonaro interrompe entrevista, reza o \"Pai N...</td>\n      <td>https://www.jornaldacidadeonline.com.br/notici...</td>\n      <td>Na última segunda-feira (12), o presidente Jai...</td>\n    </tr>\n    <tr>\n      <th>17</th>\n      <td>Omar Aziz</td>\n      <td>13/07/2021</td>\n      <td>Gravíssimo: Omar Aziz volta a dar chilique em ...</td>\n      <td>https://www.jornaldacidadeonline.com.br/notici...</td>\n      <td>O presidente da CPI “do circo” da pandemia, se...</td>\n    </tr>\n    <tr>\n      <th>18</th>\n      <td>Walter Casagrande</td>\n      <td>13/07/2021</td>\n      <td>Casagrande sofre derrota na Justiça e Globo te...</td>\n      <td>https://www.jornaldacidadeonline.com.br/notici...</td>\n      <td>Ana Paula Henkel, comentarista da Jovem Pan e ...</td>\n    </tr>\n    <tr>\n      <th>19</th>\n      <td>Marcelo Nova</td>\n      <td>13/07/2021</td>\n      <td>No Dia do Rock, roqueiro solta o verbo ao vivo...</td>\n      <td>https://www.jornaldacidadeonline.com.br/notici...</td>\n      <td>Convidado para falar no Dia do Rock, Marcelo N...</td>\n    </tr>\n    <tr>\n      <th>20</th>\n      <td>Jair Bolsonaro</td>\n      <td>13/07/2021</td>\n      <td>Confirmado! Bolsonaro cumpre promessa e nomeia...</td>\n      <td>https://www.jornaldacidadeonline.com.br/notici...</td>\n      <td>Finalmente está confirmado…\\nO Pastor evangéli...</td>\n    </tr>\n    <tr>\n      <th>21</th>\n      <td>CPI da Covid</td>\n      <td>13/07/2021</td>\n      <td>Sem as mordaças da censura, Eustáquio escancar...</td>\n      <td>https://www.jornaldacidadeonline.com.br/notici...</td>\n      <td>Em live realizada recentemente, o jornalista O...</td>\n    </tr>\n    <tr>\n      <th>22</th>\n      <td>Venezuela</td>\n      <td>13/07/2021</td>\n      <td>Imagens impressionantes: Agentes de Maduro ten...</td>\n      <td>https://www.jornaldacidadeonline.com.br/notici...</td>\n      <td>Ontem, segunda-feira (12), a ditadura venezuel...</td>\n    </tr>\n    <tr>\n      <th>23</th>\n      <td>Bahia</td>\n      <td>13/07/2021</td>\n      <td>Advogado aciona governador petista no STF cont...</td>\n      <td>https://www.jornaldacidadeonline.com.br/notici...</td>\n      <td>O advogado e professor de Direito, com Mestrad...</td>\n    </tr>\n    <tr>\n      <th>24</th>\n      <td>Alexandre de Moraes</td>\n      <td>13/07/2021</td>\n      <td>O pedido de prisão de Alexandre de Moraes: Uma...</td>\n      <td>https://www.jornaldacidadeonline.com.br/notici...</td>\n      <td>O pedido de prisão de Alexandre o \"Glande\", es...</td>\n    </tr>\n    <tr>\n      <th>25</th>\n      <td>Amanda Klein</td>\n      <td>12/07/2021</td>\n      <td>Amanda Klein inventa a “corrupção de conto de ...</td>\n      <td>https://www.jornaldacidadeonline.com.br/notici...</td>\n      <td>A jornalista da Jovem Pan, Amanda Klein, parec...</td>\n    </tr>\n    <tr>\n      <th>26</th>\n      <td>Cuba</td>\n      <td>12/07/2021</td>\n      <td>Imagens do levante contra o regime comunista e...</td>\n      <td>https://www.jornaldacidadeonline.com.br/notici...</td>\n      <td>As fotos e vídeos do levante do povo cubano co...</td>\n    </tr>\n    <tr>\n      <th>27</th>\n      <td>Lula</td>\n      <td>12/07/2021</td>\n      <td>Depois da dura resposta das Forças Armadas, Lu...</td>\n      <td>https://www.jornaldacidadeonline.com.br/notici...</td>\n      <td>O ex-presidente e ex-presidiário Luiz Inácio L...</td>\n    </tr>\n    <tr>\n      <th>28</th>\n      <td>Apreensão</td>\n      <td>12/07/2021</td>\n      <td>Polícia faz a maior apreensão de drogas da his...</td>\n      <td>https://www.jornaldacidadeonline.com.br/notici...</td>\n      <td>No último final de semana, a Polícia Militar R...</td>\n    </tr>\n    <tr>\n      <th>29</th>\n      <td>Datafolha</td>\n      <td>12/07/2021</td>\n      <td>Datafolha: Incompetência ou mau-caratismo? (ve...</td>\n      <td>https://www.jornaldacidadeonline.com.br/notici...</td>\n      <td>Se tem algo que devemos admirar nos institutos...</td>\n    </tr>\n    <tr>\n      <th>30</th>\n      <td>The Economist</td>\n      <td>10/06/2021</td>\n      <td>The Economist lied about Brazil!</td>\n      <td>https://www.jornaldacidadeonline.com.br/notici...</td>\n      <td>The Economist is a traditional British publica...</td>\n    </tr>\n    <tr>\n      <th>31</th>\n      <td>CPI da Covid</td>\n      <td>11/07/2021</td>\n      <td>As decisões de Fachin tem fortalecido as facçõ...</td>\n      <td>https://www.jornaldacidadeonline.com.br/notici...</td>\n      <td>Para o deputado estadual Charlles Batista (PSL...</td>\n    </tr>\n  </tbody>\n</table>\n</div>"
     },
     "metadata": {},
     "execution_count": 9
    }
   ],
   "source": [
    "df"
   ]
  },
  {
   "cell_type": "code",
   "execution_count": 8,
   "metadata": {},
   "outputs": [],
   "source": [
    "df.to_csv('jornaldacidade.csv', index=False)"
   ]
  }
 ]
}