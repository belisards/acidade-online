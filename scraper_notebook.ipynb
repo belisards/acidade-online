{
 "metadata": {
  "language_info": {
   "codemirror_mode": {
    "name": "ipython",
    "version": 3
   },
   "file_extension": ".py",
   "mimetype": "text/x-python",
   "name": "python",
   "nbconvert_exporter": "python",
   "pygments_lexer": "ipython3",
   "version": "3.9.5"
  },
  "orig_nbformat": 4,
  "kernelspec": {
   "name": "python3",
   "display_name": "Python 3.9.5 64-bit"
  },
  "interpreter": {
   "hash": "31f2aee4e71d21fbe5cf8b01ff0e069b9275f58929596ceb00d14d90e3e16cd6"
  }
 },
 "nbformat": 4,
 "nbformat_minor": 2,
 "cells": [
  {
   "cell_type": "code",
   "execution_count": 13,
   "metadata": {},
   "outputs": [],
   "source": [
    "import requests\n",
    "from bs4 import BeautifulSoup\n",
    "import pandas as pd"
   ]
  },
  {
   "cell_type": "code",
   "execution_count": 14,
   "metadata": {},
   "outputs": [],
   "source": [
    "link = 'https://www.jornaldacidadeonline.com.br/'"
   ]
  },
  {
   "cell_type": "code",
   "execution_count": 15,
   "metadata": {
    "tags": []
   },
   "outputs": [],
   "source": [
    "response = requests.get(link)\n",
    "doc = BeautifulSoup(response.text, 'html.parser')"
   ]
  },
  {
   "cell_type": "code",
   "execution_count": 16,
   "metadata": {},
   "outputs": [],
   "source": [
    "rows = []\n",
    "\n",
    "for item in doc.find_all(class_='widget__data'):\n",
    "    row = {}\n",
    "    row['tag'] = item.find(class_ = 'widget__tag').text\n",
    "    row['date'] = item.find(class_ = 'widget__date').text\n",
    "    row['title'] = item.find(class_ = 'widget__title').text\n",
    "    row['link'] = item.find(class_ = 'widget__title')['href']\n",
    "    rows.append(row)"
   ]
  },
  {
   "cell_type": "code",
   "execution_count": 17,
   "metadata": {},
   "outputs": [
    {
     "output_type": "execute_result",
     "data": {
      "text/plain": [
       "               tag        date  \\\n",
       "0     Lei Rouanet   13/07/2021   \n",
       "1  Forças Armadas   13/07/2021   \n",
       "2    CPI da Covid   13/07/2021   \n",
       "3  Jair Bolsonaro   13/07/2021   \n",
       "4    Marcelo Nova   13/07/2021   \n",
       "\n",
       "                                               title  \\\n",
       "0  Jornal Nacional defende \"Festival Antifascista...   \n",
       "1  Calheiros diz que ministério da Defesa foi apa...   \n",
       "2  Senador Girão desmonta narrativa de Renan e co...   \n",
       "3  Bolsonaro interrompe entrevista, reza o \"Pai N...   \n",
       "4  No Dia do Rock, roqueiro solta o verbo ao vivo...   \n",
       "\n",
       "                                                link  \n",
       "0  https://www.jornaldacidadeonline.com.br/notici...  \n",
       "1  https://www.jornaldacidadeonline.com.br/notici...  \n",
       "2  https://www.jornaldacidadeonline.com.br/notici...  \n",
       "3  https://www.jornaldacidadeonline.com.br/notici...  \n",
       "4  https://www.jornaldacidadeonline.com.br/notici...  "
      ],
      "text/html": "<div>\n<style scoped>\n    .dataframe tbody tr th:only-of-type {\n        vertical-align: middle;\n    }\n\n    .dataframe tbody tr th {\n        vertical-align: top;\n    }\n\n    .dataframe thead th {\n        text-align: right;\n    }\n</style>\n<table border=\"1\" class=\"dataframe\">\n  <thead>\n    <tr style=\"text-align: right;\">\n      <th></th>\n      <th>tag</th>\n      <th>date</th>\n      <th>title</th>\n      <th>link</th>\n    </tr>\n  </thead>\n  <tbody>\n    <tr>\n      <th>0</th>\n      <td>Lei Rouanet</td>\n      <td>13/07/2021</td>\n      <td>Jornal Nacional defende \"Festival Antifascista...</td>\n      <td>https://www.jornaldacidadeonline.com.br/notici...</td>\n    </tr>\n    <tr>\n      <th>1</th>\n      <td>Forças Armadas</td>\n      <td>13/07/2021</td>\n      <td>Calheiros diz que ministério da Defesa foi apa...</td>\n      <td>https://www.jornaldacidadeonline.com.br/notici...</td>\n    </tr>\n    <tr>\n      <th>2</th>\n      <td>CPI da Covid</td>\n      <td>13/07/2021</td>\n      <td>Senador Girão desmonta narrativa de Renan e co...</td>\n      <td>https://www.jornaldacidadeonline.com.br/notici...</td>\n    </tr>\n    <tr>\n      <th>3</th>\n      <td>Jair Bolsonaro</td>\n      <td>13/07/2021</td>\n      <td>Bolsonaro interrompe entrevista, reza o \"Pai N...</td>\n      <td>https://www.jornaldacidadeonline.com.br/notici...</td>\n    </tr>\n    <tr>\n      <th>4</th>\n      <td>Marcelo Nova</td>\n      <td>13/07/2021</td>\n      <td>No Dia do Rock, roqueiro solta o verbo ao vivo...</td>\n      <td>https://www.jornaldacidadeonline.com.br/notici...</td>\n    </tr>\n  </tbody>\n</table>\n</div>"
     },
     "metadata": {},
     "execution_count": 17
    }
   ],
   "source": [
    "df = pd.DataFrame(rows)\n",
    "df.head()"
   ]
  },
  {
   "cell_type": "code",
   "execution_count": 18,
   "metadata": {},
   "outputs": [],
   "source": [
    "def scrape_news(url):\n",
    "    response = requests.get(url)\n",
    "    doc = BeautifulSoup(response.text, 'html.parser')\n",
    "    article = []\n",
    "    # print('Content downloaded',url)\n",
    "    all_paragraphs = doc.find_all(class_='post__description')\n",
    "    if len(all_paragraphs) > 0:\n",
    "        for paragraph in all_paragraphs[0].findAll('p'):\n",
    "            try:\n",
    "                article.append(paragraph.text)\n",
    "            except:\n",
    "                print(\"No text found\") \n",
    "        news = '\\n'.join(article)\n",
    "        return news"
   ]
  },
  {
   "cell_type": "code",
   "execution_count": 19,
   "metadata": {},
   "outputs": [],
   "source": [
    "df['article'] = df.link.apply(scrape_news)"
   ]
  },
  {
   "cell_type": "code",
   "execution_count": 20,
   "metadata": {},
   "outputs": [
    {
     "output_type": "execute_result",
     "data": {
      "text/plain": [
       "                         tag        date  \\\n",
       "0               Lei Rouanet   13/07/2021   \n",
       "1            Forças Armadas   13/07/2021   \n",
       "2              CPI da Covid   13/07/2021   \n",
       "3            Jair Bolsonaro   13/07/2021   \n",
       "4              Marcelo Nova   13/07/2021   \n",
       "5            Jair Bolsonaro   13/07/2021   \n",
       "6             Porte de Arma   13/07/2021   \n",
       "7                 Jovem Pan   12/07/2021   \n",
       "8                       STF   12/07/2021   \n",
       "9                 Venezuela   12/07/2021   \n",
       "10           Senado Federal   12/07/2021   \n",
       "11   Institutos de Pesquisa   12/07/2021   \n",
       "12           Jair Bolsonaro   13/07/2021   \n",
       "13                     Cuba   13/07/2021   \n",
       "14                Omar Aziz   13/07/2021   \n",
       "15            Carina Balomé   13/07/2021   \n",
       "16                Omar Aziz   13/07/2021   \n",
       "17        Walter Casagrande   13/07/2021   \n",
       "18             Galvão Bueno   13/07/2021   \n",
       "19                      STF   13/07/2021   \n",
       "20             CPI da Covid   13/07/2021   \n",
       "21                Venezuela   13/07/2021   \n",
       "22                    Bahia   13/07/2021   \n",
       "23      Alexandre de Moraes   13/07/2021   \n",
       "24  Voto Impresso Auditável   13/07/2021   \n",
       "25                Comunismo   12/07/2021   \n",
       "26                     Lula   12/07/2021   \n",
       "27                Apreensão   12/07/2021   \n",
       "28                     Cuba   12/07/2021   \n",
       "29                   Vacina   12/07/2021   \n",
       "30            The Economist   10/06/2021   \n",
       "31             CPI da Covid   11/07/2021   \n",
       "\n",
       "                                                title  \\\n",
       "0   Jornal Nacional defende \"Festival Antifascista...   \n",
       "1   Calheiros diz que ministério da Defesa foi apa...   \n",
       "2   Senador Girão desmonta narrativa de Renan e co...   \n",
       "3   Bolsonaro interrompe entrevista, reza o \"Pai N...   \n",
       "4   No Dia do Rock, roqueiro solta o verbo ao vivo...   \n",
       "5   Com aparente desequilíbrio emocional, Xuxa se ...   \n",
       "6   “A gente precisa ter o poder de defender nossa...   \n",
       "7   Amanda Klein inventa a “corrupção de conto de ...   \n",
       "8           Quem tem medo do voto impresso auditável?   \n",
       "9   URGENTE: Homens encapuzados e armados da ditad...   \n",
       "10  Marcos Rogério faz reflexão sobre texto bíblic...   \n",
       "11  Datafolha: Incompetência ou mau-caratismo? (ve...   \n",
       "12  Malafaia diz que governo Bolsonaro é o mais at...   \n",
       "13  Cuba Libre, a luta entre o bem e o mal: Acorda...   \n",
       "14  Após ato falho, Omar Aziz tenta coagir depoent...   \n",
       "15  Jornalista vence na Justiça primeira batalha c...   \n",
       "16  Gravíssimo: Omar Aziz volta a dar chilique em ...   \n",
       "17  Casagrande sofre derrota na Justiça e Globo te...   \n",
       "18  Ao vivo, Galvão tenta alfinetar SBT e é ironiz...   \n",
       "19  Confirmado! Bolsonaro cumpre promessa e nomeia...   \n",
       "20  Sem as mordaças da censura, Eustáquio escancar...   \n",
       "21  Imagens impressionantes: Agentes de Maduro ten...   \n",
       "22  Advogado aciona governador petista no STF cont...   \n",
       "23  O pedido de prisão de Alexandre de Moraes: Uma...   \n",
       "24                      Voto impresso e auditável já!   \n",
       "25  Imagens do levante contra o regime comunista e...   \n",
       "26  Depois da dura resposta das Forças Armadas, Lu...   \n",
       "27  Polícia faz a maior apreensão de drogas da his...   \n",
       "28  Absurdo - MST convoca militantes para defender...   \n",
       "29  Passaporte sanitário, ditadura sanitária e vio...   \n",
       "30                   The Economist lied about Brazil!   \n",
       "31  As decisões de Fachin tem fortalecido as facçõ...   \n",
       "\n",
       "                                                 link  \\\n",
       "0   https://www.jornaldacidadeonline.com.br/notici...   \n",
       "1   https://www.jornaldacidadeonline.com.br/notici...   \n",
       "2   https://www.jornaldacidadeonline.com.br/notici...   \n",
       "3   https://www.jornaldacidadeonline.com.br/notici...   \n",
       "4   https://www.jornaldacidadeonline.com.br/notici...   \n",
       "5   https://www.jornaldacidadeonline.com.br/notici...   \n",
       "6   https://www.jornaldacidadeonline.com.br/notici...   \n",
       "7   https://www.jornaldacidadeonline.com.br/notici...   \n",
       "8   https://www.jornaldacidadeonline.com.br/notici...   \n",
       "9   https://www.jornaldacidadeonline.com.br/notici...   \n",
       "10  https://www.jornaldacidadeonline.com.br/notici...   \n",
       "11  https://www.jornaldacidadeonline.com.br/notici...   \n",
       "12  https://www.jornaldacidadeonline.com.br/notici...   \n",
       "13  https://www.jornaldacidadeonline.com.br/notici...   \n",
       "14  https://www.jornaldacidadeonline.com.br/notici...   \n",
       "15  https://www.jornaldacidadeonline.com.br/notici...   \n",
       "16  https://www.jornaldacidadeonline.com.br/notici...   \n",
       "17  https://www.jornaldacidadeonline.com.br/notici...   \n",
       "18  https://www.jornaldacidadeonline.com.br/notici...   \n",
       "19  https://www.jornaldacidadeonline.com.br/notici...   \n",
       "20  https://www.jornaldacidadeonline.com.br/notici...   \n",
       "21  https://www.jornaldacidadeonline.com.br/notici...   \n",
       "22  https://www.jornaldacidadeonline.com.br/notici...   \n",
       "23  https://www.jornaldacidadeonline.com.br/notici...   \n",
       "24  https://www.jornaldacidadeonline.com.br/notici...   \n",
       "25  https://www.jornaldacidadeonline.com.br/notici...   \n",
       "26  https://www.jornaldacidadeonline.com.br/notici...   \n",
       "27  https://www.jornaldacidadeonline.com.br/notici...   \n",
       "28  https://www.jornaldacidadeonline.com.br/notici...   \n",
       "29  https://www.jornaldacidadeonline.com.br/notici...   \n",
       "30  https://www.jornaldacidadeonline.com.br/notici...   \n",
       "31  https://www.jornaldacidadeonline.com.br/notici...   \n",
       "\n",
       "                                              article  \n",
       "0   Em um parecer emitido pela Fundação Nacional d...  \n",
       "1   Em mais uma fala com claro desrespeito às inst...  \n",
       "2   Durante sessão da Comissão Parlamentar de Inqu...  \n",
       "3   Na última segunda-feira (12), o presidente Jai...  \n",
       "4   Convidado para falar no Dia do Rock, Marcelo N...  \n",
       "5   Xuxa Meneghel atacou o governo, em post no Ins...  \n",
       "6   Camila Abdo, colaboradora do canal A Verdade, ...  \n",
       "7   A jornalista da Jovem Pan, Amanda Klein, parec...  \n",
       "8   Por que o velho mecanismo insiste em manter a ...  \n",
       "9   Segundo informações de Fabiana Rosales, esposa...  \n",
       "10                                               None  \n",
       "11  Se tem algo que devemos admirar nos institutos...  \n",
       "12  O pastor Silas Malafaia gravou mais um de seus...  \n",
       "13  Estamos vivendo a história, bem diante de noss...  \n",
       "14  A sessão da CPI da pandemia desta terça-feira ...  \n",
       "15  A jornalista Carina Belomé, que está sendo pro...  \n",
       "16  O presidente da CPI “do circo” da pandemia, se...  \n",
       "17  Ana Paula Henkel, comentarista da Jovem Pan e ...  \n",
       "18  No último domingo (11), após a Rede Globo perd...  \n",
       "19  Finalmente está confirmado…\\nO Pastor evangéli...  \n",
       "20  Em live realizada recentemente, o jornalista O...  \n",
       "21  Ontem, segunda-feira (12), a ditadura venezuel...  \n",
       "22  O advogado e professor de Direito, com Mestrad...  \n",
       "23  O pedido de prisão de Alexandre o \"Glande\", es...  \n",
       "24  O clima político no país caminha para um impas...  \n",
       "25  As fotos e vídeos do levante do povo cubano co...  \n",
       "26  O ex-presidente e ex-presidiário Luiz Inácio L...  \n",
       "27  No último final de semana, a Polícia Militar R...  \n",
       "28  O Movimento Sem Terra, um malfadado grupo que ...  \n",
       "29  Numa Democracia um dos maiores valores é a Lib...  \n",
       "30  The Economist is a traditional British publica...  \n",
       "31  Para o deputado estadual Charlles Batista (PSL...  "
      ],
      "text/html": "<div>\n<style scoped>\n    .dataframe tbody tr th:only-of-type {\n        vertical-align: middle;\n    }\n\n    .dataframe tbody tr th {\n        vertical-align: top;\n    }\n\n    .dataframe thead th {\n        text-align: right;\n    }\n</style>\n<table border=\"1\" class=\"dataframe\">\n  <thead>\n    <tr style=\"text-align: right;\">\n      <th></th>\n      <th>tag</th>\n      <th>date</th>\n      <th>title</th>\n      <th>link</th>\n      <th>article</th>\n    </tr>\n  </thead>\n  <tbody>\n    <tr>\n      <th>0</th>\n      <td>Lei Rouanet</td>\n      <td>13/07/2021</td>\n      <td>Jornal Nacional defende \"Festival Antifascista...</td>\n      <td>https://www.jornaldacidadeonline.com.br/notici...</td>\n      <td>Em um parecer emitido pela Fundação Nacional d...</td>\n    </tr>\n    <tr>\n      <th>1</th>\n      <td>Forças Armadas</td>\n      <td>13/07/2021</td>\n      <td>Calheiros diz que ministério da Defesa foi apa...</td>\n      <td>https://www.jornaldacidadeonline.com.br/notici...</td>\n      <td>Em mais uma fala com claro desrespeito às inst...</td>\n    </tr>\n    <tr>\n      <th>2</th>\n      <td>CPI da Covid</td>\n      <td>13/07/2021</td>\n      <td>Senador Girão desmonta narrativa de Renan e co...</td>\n      <td>https://www.jornaldacidadeonline.com.br/notici...</td>\n      <td>Durante sessão da Comissão Parlamentar de Inqu...</td>\n    </tr>\n    <tr>\n      <th>3</th>\n      <td>Jair Bolsonaro</td>\n      <td>13/07/2021</td>\n      <td>Bolsonaro interrompe entrevista, reza o \"Pai N...</td>\n      <td>https://www.jornaldacidadeonline.com.br/notici...</td>\n      <td>Na última segunda-feira (12), o presidente Jai...</td>\n    </tr>\n    <tr>\n      <th>4</th>\n      <td>Marcelo Nova</td>\n      <td>13/07/2021</td>\n      <td>No Dia do Rock, roqueiro solta o verbo ao vivo...</td>\n      <td>https://www.jornaldacidadeonline.com.br/notici...</td>\n      <td>Convidado para falar no Dia do Rock, Marcelo N...</td>\n    </tr>\n    <tr>\n      <th>5</th>\n      <td>Jair Bolsonaro</td>\n      <td>13/07/2021</td>\n      <td>Com aparente desequilíbrio emocional, Xuxa se ...</td>\n      <td>https://www.jornaldacidadeonline.com.br/notici...</td>\n      <td>Xuxa Meneghel atacou o governo, em post no Ins...</td>\n    </tr>\n    <tr>\n      <th>6</th>\n      <td>Porte de Arma</td>\n      <td>13/07/2021</td>\n      <td>“A gente precisa ter o poder de defender nossa...</td>\n      <td>https://www.jornaldacidadeonline.com.br/notici...</td>\n      <td>Camila Abdo, colaboradora do canal A Verdade, ...</td>\n    </tr>\n    <tr>\n      <th>7</th>\n      <td>Jovem Pan</td>\n      <td>12/07/2021</td>\n      <td>Amanda Klein inventa a “corrupção de conto de ...</td>\n      <td>https://www.jornaldacidadeonline.com.br/notici...</td>\n      <td>A jornalista da Jovem Pan, Amanda Klein, parec...</td>\n    </tr>\n    <tr>\n      <th>8</th>\n      <td>STF</td>\n      <td>12/07/2021</td>\n      <td>Quem tem medo do voto impresso auditável?</td>\n      <td>https://www.jornaldacidadeonline.com.br/notici...</td>\n      <td>Por que o velho mecanismo insiste em manter a ...</td>\n    </tr>\n    <tr>\n      <th>9</th>\n      <td>Venezuela</td>\n      <td>12/07/2021</td>\n      <td>URGENTE: Homens encapuzados e armados da ditad...</td>\n      <td>https://www.jornaldacidadeonline.com.br/notici...</td>\n      <td>Segundo informações de Fabiana Rosales, esposa...</td>\n    </tr>\n    <tr>\n      <th>10</th>\n      <td>Senado Federal</td>\n      <td>12/07/2021</td>\n      <td>Marcos Rogério faz reflexão sobre texto bíblic...</td>\n      <td>https://www.jornaldacidadeonline.com.br/notici...</td>\n      <td>None</td>\n    </tr>\n    <tr>\n      <th>11</th>\n      <td>Institutos de Pesquisa</td>\n      <td>12/07/2021</td>\n      <td>Datafolha: Incompetência ou mau-caratismo? (ve...</td>\n      <td>https://www.jornaldacidadeonline.com.br/notici...</td>\n      <td>Se tem algo que devemos admirar nos institutos...</td>\n    </tr>\n    <tr>\n      <th>12</th>\n      <td>Jair Bolsonaro</td>\n      <td>13/07/2021</td>\n      <td>Malafaia diz que governo Bolsonaro é o mais at...</td>\n      <td>https://www.jornaldacidadeonline.com.br/notici...</td>\n      <td>O pastor Silas Malafaia gravou mais um de seus...</td>\n    </tr>\n    <tr>\n      <th>13</th>\n      <td>Cuba</td>\n      <td>13/07/2021</td>\n      <td>Cuba Libre, a luta entre o bem e o mal: Acorda...</td>\n      <td>https://www.jornaldacidadeonline.com.br/notici...</td>\n      <td>Estamos vivendo a história, bem diante de noss...</td>\n    </tr>\n    <tr>\n      <th>14</th>\n      <td>Omar Aziz</td>\n      <td>13/07/2021</td>\n      <td>Após ato falho, Omar Aziz tenta coagir depoent...</td>\n      <td>https://www.jornaldacidadeonline.com.br/notici...</td>\n      <td>A sessão da CPI da pandemia desta terça-feira ...</td>\n    </tr>\n    <tr>\n      <th>15</th>\n      <td>Carina Balomé</td>\n      <td>13/07/2021</td>\n      <td>Jornalista vence na Justiça primeira batalha c...</td>\n      <td>https://www.jornaldacidadeonline.com.br/notici...</td>\n      <td>A jornalista Carina Belomé, que está sendo pro...</td>\n    </tr>\n    <tr>\n      <th>16</th>\n      <td>Omar Aziz</td>\n      <td>13/07/2021</td>\n      <td>Gravíssimo: Omar Aziz volta a dar chilique em ...</td>\n      <td>https://www.jornaldacidadeonline.com.br/notici...</td>\n      <td>O presidente da CPI “do circo” da pandemia, se...</td>\n    </tr>\n    <tr>\n      <th>17</th>\n      <td>Walter Casagrande</td>\n      <td>13/07/2021</td>\n      <td>Casagrande sofre derrota na Justiça e Globo te...</td>\n      <td>https://www.jornaldacidadeonline.com.br/notici...</td>\n      <td>Ana Paula Henkel, comentarista da Jovem Pan e ...</td>\n    </tr>\n    <tr>\n      <th>18</th>\n      <td>Galvão Bueno</td>\n      <td>13/07/2021</td>\n      <td>Ao vivo, Galvão tenta alfinetar SBT e é ironiz...</td>\n      <td>https://www.jornaldacidadeonline.com.br/notici...</td>\n      <td>No último domingo (11), após a Rede Globo perd...</td>\n    </tr>\n    <tr>\n      <th>19</th>\n      <td>STF</td>\n      <td>13/07/2021</td>\n      <td>Confirmado! Bolsonaro cumpre promessa e nomeia...</td>\n      <td>https://www.jornaldacidadeonline.com.br/notici...</td>\n      <td>Finalmente está confirmado…\\nO Pastor evangéli...</td>\n    </tr>\n    <tr>\n      <th>20</th>\n      <td>CPI da Covid</td>\n      <td>13/07/2021</td>\n      <td>Sem as mordaças da censura, Eustáquio escancar...</td>\n      <td>https://www.jornaldacidadeonline.com.br/notici...</td>\n      <td>Em live realizada recentemente, o jornalista O...</td>\n    </tr>\n    <tr>\n      <th>21</th>\n      <td>Venezuela</td>\n      <td>13/07/2021</td>\n      <td>Imagens impressionantes: Agentes de Maduro ten...</td>\n      <td>https://www.jornaldacidadeonline.com.br/notici...</td>\n      <td>Ontem, segunda-feira (12), a ditadura venezuel...</td>\n    </tr>\n    <tr>\n      <th>22</th>\n      <td>Bahia</td>\n      <td>13/07/2021</td>\n      <td>Advogado aciona governador petista no STF cont...</td>\n      <td>https://www.jornaldacidadeonline.com.br/notici...</td>\n      <td>O advogado e professor de Direito, com Mestrad...</td>\n    </tr>\n    <tr>\n      <th>23</th>\n      <td>Alexandre de Moraes</td>\n      <td>13/07/2021</td>\n      <td>O pedido de prisão de Alexandre de Moraes: Uma...</td>\n      <td>https://www.jornaldacidadeonline.com.br/notici...</td>\n      <td>O pedido de prisão de Alexandre o \"Glande\", es...</td>\n    </tr>\n    <tr>\n      <th>24</th>\n      <td>Voto Impresso Auditável</td>\n      <td>13/07/2021</td>\n      <td>Voto impresso e auditável já!</td>\n      <td>https://www.jornaldacidadeonline.com.br/notici...</td>\n      <td>O clima político no país caminha para um impas...</td>\n    </tr>\n    <tr>\n      <th>25</th>\n      <td>Comunismo</td>\n      <td>12/07/2021</td>\n      <td>Imagens do levante contra o regime comunista e...</td>\n      <td>https://www.jornaldacidadeonline.com.br/notici...</td>\n      <td>As fotos e vídeos do levante do povo cubano co...</td>\n    </tr>\n    <tr>\n      <th>26</th>\n      <td>Lula</td>\n      <td>12/07/2021</td>\n      <td>Depois da dura resposta das Forças Armadas, Lu...</td>\n      <td>https://www.jornaldacidadeonline.com.br/notici...</td>\n      <td>O ex-presidente e ex-presidiário Luiz Inácio L...</td>\n    </tr>\n    <tr>\n      <th>27</th>\n      <td>Apreensão</td>\n      <td>12/07/2021</td>\n      <td>Polícia faz a maior apreensão de drogas da his...</td>\n      <td>https://www.jornaldacidadeonline.com.br/notici...</td>\n      <td>No último final de semana, a Polícia Militar R...</td>\n    </tr>\n    <tr>\n      <th>28</th>\n      <td>Cuba</td>\n      <td>12/07/2021</td>\n      <td>Absurdo - MST convoca militantes para defender...</td>\n      <td>https://www.jornaldacidadeonline.com.br/notici...</td>\n      <td>O Movimento Sem Terra, um malfadado grupo que ...</td>\n    </tr>\n    <tr>\n      <th>29</th>\n      <td>Vacina</td>\n      <td>12/07/2021</td>\n      <td>Passaporte sanitário, ditadura sanitária e vio...</td>\n      <td>https://www.jornaldacidadeonline.com.br/notici...</td>\n      <td>Numa Democracia um dos maiores valores é a Lib...</td>\n    </tr>\n    <tr>\n      <th>30</th>\n      <td>The Economist</td>\n      <td>10/06/2021</td>\n      <td>The Economist lied about Brazil!</td>\n      <td>https://www.jornaldacidadeonline.com.br/notici...</td>\n      <td>The Economist is a traditional British publica...</td>\n    </tr>\n    <tr>\n      <th>31</th>\n      <td>CPI da Covid</td>\n      <td>11/07/2021</td>\n      <td>As decisões de Fachin tem fortalecido as facçõ...</td>\n      <td>https://www.jornaldacidadeonline.com.br/notici...</td>\n      <td>Para o deputado estadual Charlles Batista (PSL...</td>\n    </tr>\n  </tbody>\n</table>\n</div>"
     },
     "metadata": {},
     "execution_count": 20
    }
   ],
   "source": [
    "df"
   ]
  },
  {
   "cell_type": "code",
   "execution_count": 21,
   "metadata": {},
   "outputs": [],
   "source": [
    "df.to_csv('jornaldacidade.csv', index=False)"
   ]
  }
 ]
}